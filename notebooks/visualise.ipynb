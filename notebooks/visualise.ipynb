{
 "cells": [
  {
   "cell_type": "markdown",
   "id": "6fbd9298",
   "metadata": {},
   "source": [
    "# View CellPainting data\n",
    "This notebook shows how access ``Zarr`` files from an S3 bucket. "
   ]
  },
  {
   "cell_type": "markdown",
   "id": "cdd64a92",
   "metadata": {},
   "source": [
    "## Load dependencies "
   ]
  },
  {
   "cell_type": "code",
   "execution_count": 1,
   "id": "d8bb3e4c",
   "metadata": {},
   "outputs": [],
   "source": [
    "from IPython import get_ipython\n",
    "from ipywidgets import *\n",
    "import dask.array as da\n",
    "import dask\n",
    "\n",
    "import requests\n",
    "import numpy as np\n",
    "from datetime import datetime\n",
    "from PIL import Image\n",
    "\n",
    "from ome_zarr.io import parse_url\n",
    "from ome_zarr.reader import Reader"
   ]
  },
  {
   "cell_type": "markdown",
   "id": "1b3374f6",
   "metadata": {},
   "source": [
    "## Location and data to view "
   ]
  },
  {
   "cell_type": "code",
   "execution_count": 2,
   "id": "0a99d093",
   "metadata": {},
   "outputs": [],
   "source": [
    "ENDPOINT_URL = \"https://cellpainting-gallery.s3.amazonaws.com/\"\n",
    "ROOT = \"cpg0004-lincs/broad/images/2016_04_01_a549_48hr_batch1/images_zarr/SQ00014812__2016-05-23T20_44_31-Measurement1.ome.zarr\""
   ]
  },
  {
   "cell_type": "markdown",
   "id": "3c9a46e1",
   "metadata": {},
   "source": [
    "## Read information about the plate\n",
    "Determine the number of rows and columns by reading the ``.zattrs`` file as JSON.¶ "
   ]
  },
  {
   "cell_type": "code",
   "execution_count": 3,
   "id": "38a13c44",
   "metadata": {},
   "outputs": [],
   "source": [
    "zattrs = requests.get(ENDPOINT_URL + ROOT + \"/.zattrs\").json()"
   ]
  },
  {
   "cell_type": "markdown",
   "id": "8c209312",
   "metadata": {},
   "source": [
    "### Helper methods "
   ]
  },
  {
   "cell_type": "code",
   "execution_count": 4,
   "id": "d2587114",
   "metadata": {},
   "outputs": [],
   "source": [
    "def display_image(image, display_min, display_max): # copied from Bi Rico\n",
    "    # https://stackoverflow.com/questions/14464449/using-numpy-to-efficiently-convert-16-bit-image-data-to-8-bit-for-display-with\n",
    "    image.clip(display_min, display_max, out=image)\n",
    "    image -= display_min\n",
    "    np.floor_divide(image, (display_max - display_min + 1) / 256,\n",
    "                    out=image, casting='unsafe')\n",
    "    return image.astype(np.uint8)\n",
    "\n",
    "def render_plane(dask_data, z, c, t, window=None):\n",
    "    # -> 2D, also slice top/left quarter\n",
    "    channel0 = dask_data[t, c, z, :1000, :1000]\n",
    "    channel0 = channel0.compute()\n",
    "\n",
    "    if window is None:\n",
    "        window = [channel0.min(), channel0.max()]\n",
    "\n",
    "    return display_image(channel0, window[0], window[1])\n",
    "\n",
    "\n",
    "def setActiveChannels(dask_data, channels, colors, windows=None):\n",
    "    # colors are (r, g, b)\n",
    "    rgb_plane = None\n",
    "\n",
    "    the_z = 0\n",
    "    the_t = 0\n",
    "    print(\"preparing image...\")\n",
    "    for ch_index, color in zip(channels, colors):\n",
    "        plane = render_plane(dask_data, the_t, ch_index, the_z)\n",
    "        if rgb_plane is None:\n",
    "            rgb_plane = np.zeros((*plane.shape, 3), np.uint16)\n",
    "        for index, fraction in enumerate(color):\n",
    "            if fraction > 0:\n",
    "                rgb_plane[:, :, index] += (fraction * plane)\n",
    "\n",
    "    return rgb_plane.clip(0, 255, out=rgb_plane).astype(np.uint8)\n",
    "\n",
    "# rgb = np.dstack((red, green, blue))\n",
    "colors = [\n",
    "    (0, 1, 1),\n",
    "    (1, 1, 0),\n",
    "    (1, 0, 1),\n",
    "    (1, 0, 0),\n",
    "    (0, 1, 0)\n",
    "]"
   ]
  },
  {
   "cell_type": "code",
   "execution_count": 13,
   "id": "96705bc6",
   "metadata": {},
   "outputs": [
    {
     "data": {
      "application/vnd.jupyter.widget-view+json": {
       "model_id": "06529024bae24c028992df2794683641",
       "version_major": 2,
       "version_minor": 0
      },
      "text/plain": [
       "interactive(children=(IntSlider(value=0, continuous_update=False, description='Row', max=15), IntSlider(value=…"
      ]
     },
     "metadata": {},
     "output_type": "display_data"
    }
   ],
   "source": [
    "display_min = 0\n",
    "display_max = 1000\n",
    "def select_image(row=0, column=0, field=0):\n",
    "    for well in zattrs['plate']['wells']:\n",
    "        n = well['rowIndex']\n",
    "        c = well['columnIndex']\n",
    "        resolution=0\n",
    "        if n == row and c == column:\n",
    "            url = \"%s%s/%s/%s/%s\" % (ENDPOINT_URL, ROOT, well['path'], field, resolution)\n",
    "            store = parse_url(url, mode=\"r\").store\n",
    "            reader = Reader(parse_url(url))\n",
    "            # nodes may include images, labels etc\n",
    "            nodes = list(reader())\n",
    "            # first node will be the image pixel data\n",
    "            dask_data = nodes[0].data[-1]\n",
    "            rgb = setActiveChannels(dask_data, [c for c in range(dask_data.shape[1])], colors)\n",
    "            img = Image.fromarray(rgb)\n",
    "            display(img)\n",
    "            \n",
    "\n",
    "output = interactive(select_image, zattrs=zattrs,\n",
    "                     row=widgets.IntSlider(value=0, min=0, max=len(zattrs['plate']['rows'])-1, step=1, description=\"Row\", continuous_update=False),\n",
    "                     column=widgets.IntSlider(value=0, min=0, max=len(zattrs['plate']['columns'])-1, step=1, description=\"Column\", continuous_update=False),\n",
    "                     field=widgets.IntSlider(value=0, min=0, max=zattrs['plate']['field_count']-1, step=1, description=\"Field\", continuous_update=False))\n",
    "display(output)"
   ]
  },
  {
   "cell_type": "markdown",
   "id": "5fb8794a",
   "metadata": {},
   "source": [
    "## License (BSD 2-Clause)\n",
    "\n",
    "Copyright (C) 2022 University of Dundee. All Rights Reserved.\n",
    "\n",
    "Redistribution and use in source and binary forms, with or without modification, are permitted provided that the following conditions are met:\n",
    "\n",
    "Redistributions of source code must retain the above copyright notice, this list of conditions and the following disclaimer. Redistributions in binary form must reproduce the above copyright notice, this list of conditions and the following disclaimer in the documentation and/or other materials provided with the distribution. THIS SOFTWARE IS PROVIDED BY THE COPYRIGHT HOLDERS AND CONTRIBUTORS \"AS IS\" AND ANY EXPRESS OR IMPLIED WARRANTIES, INCLUDING, BUT NOT LIMITED TO, THE IMPLIED WARRANTIES OF MERCHANTABILITY AND FITNESS FOR A PARTICULAR PURPOSE ARE DISCLAIMED. IN NO EVENT SHALL THE COPYRIGHT OWNER OR CONTRIBUTORS BE LIABLE FOR ANY DIRECT, INDIRECT, INCIDENTAL, SPECIAL, EXEMPLARY, OR CONSEQUENTIAL DAMAGES (INCLUDING, BUT NOT LIMITED TO, PROCUREMENT OF SUBSTITUTE GOODS OR SERVICES; LOSS OF USE, DATA, OR PROFITS; OR BUSINESS INTERRUPTION) HOWEVER CAUSED AND ON ANY THEORY OF LIABILITY, WHETHER IN CONTRACT, STRICT LIABILITY, OR TORT (INCLUDING NEGLIGENCE OR OTHERWISE) ARISING IN ANY WAY OUT OF THE USE OF THIS SOFTWARE, EVEN IF ADVISED OF THE POSSIBILITY OF SUCH DAMAGE. "
   ]
  }
 ],
 "metadata": {
  "kernelspec": {
   "display_name": "ome-zarr",
   "language": "python",
   "name": "ome-zarr"
  },
  "language_info": {
   "codemirror_mode": {
    "name": "ipython",
    "version": 3
   },
   "file_extension": ".py",
   "mimetype": "text/x-python",
   "name": "python",
   "nbconvert_exporter": "python",
   "pygments_lexer": "ipython3",
   "version": "3.9.13"
  }
 },
 "nbformat": 4,
 "nbformat_minor": 5
}
